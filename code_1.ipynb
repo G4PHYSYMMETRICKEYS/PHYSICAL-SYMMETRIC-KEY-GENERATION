{
  "cells": [
    {
      "cell_type": "code",
      "execution_count": 1,
      "metadata": {
        "id": "McAPHDan1IuD"
      },
      "outputs": [],
      "source": [
        "import pandas as pd\n",
        "import matplotlib.pyplot as plt \n",
        "import numpy as np\n",
        "import math"
      ]
    },
    {
      "cell_type": "code",
      "execution_count": null,
      "metadata": {
        "id": "XPa-lb2L1sv7"
      },
      "outputs": [],
      "source": [
        "from google.colab import files\n",
        "uploaded=files.upload()"
      ]
    },
    {
      "cell_type": "code",
      "execution_count": null,
      "metadata": {
        "id": "pHTmmdTw11Xk"
      },
      "outputs": [],
      "source": [
        "df = pd.read_csv(\"/content/Alice.txt\",sep = \", \", header = None, encoding=\"ISO-8859-1\")\n",
        "df_1 = pd.read_csv(\"/content/Bob.txt\",sep = \", \",header = None,encoding=\"ISO-8859-1\")\n",
        "df_2 = pd.read_csv(\"/content/attaker.txt\",sep = \", \",header = None, encoding = \"ISO-8859-1\")"
      ]
    },
    {
      "cell_type": "code",
      "execution_count": 4,
      "metadata": {
        "id": "yWJ5XaDb2EPa"
      },
      "outputs": [],
      "source": [
        "df.columns = [\"data\",\"RSSI\"]\n",
        "df_1.columns =[\"data\",\"RSSI\"]\n",
        "df_2.columns = [\"data\",\"RSSI\",\"attaker\"]\n"
      ]
    },
    {
      "cell_type": "code",
      "execution_count": null,
      "metadata": {
        "id": "dpt8BBkd2T7Q"
      },
      "outputs": [],
      "source": [
        "df.plot()\n",
        "df_1.plot()\n",
        "df_2.plot()\n",
        "\n",
        "\n",
        "plt.show()"
      ]
    },
    {
      "cell_type": "code",
      "execution_count": 6,
      "metadata": {
        "id": "OFG1uxu_dmmm"
      },
      "outputs": [],
      "source": [
        "RSSI_1 = []\n",
        "RSSI_2= []\n",
        "RSSI_temp = []\n",
        "RSSI_3= []\n",
        "RSSI_4 = []\n",
        "\n",
        "for i in range(1,len(df)):\n",
        "  for j in range(1,len(df_1)):\n",
        "        if (df[\"data\"][i]) == (df_1[\"data\"][j]):\n",
        "         RSSI_1.append(df[\"RSSI\"][i])\n",
        "         RSSI_2.append(df_1[\"RSSI\"][j])\n",
        "         RSSI_temp.append(df_1[\"data\"][j])\n",
        "\n",
        "\n",
        "for i in range(1,len(RSSI_temp)):\n",
        "  for j in range(1,len(df_2)):\n",
        "    if RSSI_temp[i] == (df_2[\"data\"][j]):\n",
        "      RSSI_3.append(df_2[\"RSSI\"][j])\n",
        "      RSSI_4.append(df_2[\"attaker\"][j])"
      ]
    },
    {
      "cell_type": "code",
      "execution_count": null,
      "metadata": {
        "id": "opecJSwC2W9v"
      },
      "outputs": [],
      "source": [
        "print(len(RSSI_1))\n",
        "minRSSI_1 = np.min(RSSI_1)\n",
        "minRSSI_1"
      ]
    },
    {
      "cell_type": "code",
      "execution_count": null,
      "metadata": {
        "id": "S1NM8CKv8Gaz"
      },
      "outputs": [],
      "source": [
        "maxRSSI_1 = np.max(RSSI_1)\n",
        "maxRSSI_1"
      ]
    },
    {
      "cell_type": "code",
      "execution_count": null,
      "metadata": {
        "id": "YeEQuIJCF-9j"
      },
      "outputs": [],
      "source": [
        "print(len(RSSI_2))\n",
        "maxRSSI_2 = np.max(RSSI_2)\n",
        "maxRSSI_2"
      ]
    },
    {
      "cell_type": "code",
      "execution_count": null,
      "metadata": {
        "id": "jBzZVTQcGKgb"
      },
      "outputs": [],
      "source": [
        "print(len(RSSI_3))\n",
        "minRSSI_2 = np.min(RSSI_2)\n",
        "minRSSI_2"
      ]
    },
    {
      "cell_type": "code",
      "source": [
        "minRSSI_3 = np.min(RSSI_3)"
      ],
      "metadata": {
        "id": "I7B8144lfJm7"
      },
      "execution_count": 12,
      "outputs": []
    },
    {
      "cell_type": "code",
      "source": [
        "maxRSSI_3 = np.max(RSSI_3)"
      ],
      "metadata": {
        "id": "pyRVLRg8fJee"
      },
      "execution_count": 13,
      "outputs": []
    },
    {
      "cell_type": "code",
      "source": [
        "print(len(RSSI_4))\n",
        "minRSSI_4 = np.min(RSSI_4)"
      ],
      "metadata": {
        "id": "y75wp8U3fJRl"
      },
      "execution_count": null,
      "outputs": []
    },
    {
      "cell_type": "code",
      "source": [
        "maxRSSI_4 = np.max(RSSI_4)"
      ],
      "metadata": {
        "id": "67aly7J8fJHm"
      },
      "execution_count": 15,
      "outputs": []
    },
    {
      "cell_type": "code",
      "execution_count": 16,
      "metadata": {
        "id": "jQwlWzDEGUOF"
      },
      "outputs": [],
      "source": [
        "RSSI_a= maxRSSI_1-minRSSI_1"
      ]
    },
    {
      "cell_type": "code",
      "execution_count": null,
      "metadata": {
        "id": "4mkxnMf6G4Kc"
      },
      "outputs": [],
      "source": [
        "RSSI_a"
      ]
    },
    {
      "cell_type": "code",
      "execution_count": 18,
      "metadata": {
        "id": "grf_w4DuG7FO"
      },
      "outputs": [],
      "source": [
        "RSSI_b = maxRSSI_2-minRSSI_2"
      ]
    },
    {
      "cell_type": "code",
      "execution_count": null,
      "metadata": {
        "id": "O-uHs8ANLDEh"
      },
      "outputs": [],
      "source": [
        "RSSI_b"
      ]
    },
    {
      "cell_type": "code",
      "source": [
        "RSSI_c = maxRSSI_3 - minRSSI_3"
      ],
      "metadata": {
        "id": "pnNleYSAfeES"
      },
      "execution_count": 20,
      "outputs": []
    },
    {
      "cell_type": "code",
      "source": [
        "RSSI_c"
      ],
      "metadata": {
        "id": "G4eAcfUrfd6W"
      },
      "execution_count": null,
      "outputs": []
    },
    {
      "cell_type": "code",
      "source": [
        "RSSI_d = maxRSSI_4 - minRSSI_4"
      ],
      "metadata": {
        "id": "0pWMr6XifdvB"
      },
      "execution_count": 22,
      "outputs": []
    },
    {
      "cell_type": "code",
      "source": [
        "RSSI_d"
      ],
      "metadata": {
        "id": "ZA8u66iIfdf7"
      },
      "execution_count": null,
      "outputs": []
    },
    {
      "cell_type": "code",
      "execution_count": 42,
      "metadata": {
        "id": "bjt6JTB6LIZA"
      },
      "outputs": [],
      "source": [
        "tn=[0.1,0.2,0.3,0.4,0.5,0.6,0.7,0.8,0.9]\n",
        "n = len(RSSI_1)\n",
        "n2 = len(RSSI_3)\n",
        "ea = []\n",
        "eb = []\n",
        "eae = []\n",
        "ebe = []\n",
        "ab = []\n",
        "be = []\n",
        "ea = []\n",
        "x_atemp = []\n",
        "x_btemp = []"
      ]
    },
    {
      "cell_type": "code",
      "execution_count": null,
      "metadata": {
        "id": "N4wD1otyL0ET"
      },
      "outputs": [],
      "source": [
        "from numpy.ma.core import log\n",
        "for i in range(0,len(tn)):\n",
        "    x_a = []\n",
        "    x_b = []\n",
        "    x_ae = []\n",
        "    x_be = []\n",
        "    for j in range(1,n):\n",
        "      if (RSSI_1[j] > (minRSSI_1 + tn[i]*RSSI_a)):\n",
        "        x_a.append(1)\n",
        "      else:\n",
        "        x_a.append(0)\n",
        "      if (RSSI_2[j] > (minRSSI_2 + tn[i]*RSSI_b)):\n",
        "        x_b.append(1)\n",
        "      else:\n",
        "        x_b.append(0)\n",
        "      p1ab = (sum(x_a+x_b))/(n+n)\n",
        "      ea.append(sum([i for i in x_a+x_b if i in x_a or i in x_b])/n)\n",
        "      if p1ab == 0:\n",
        "        continue\n",
        "      else:\n",
        "        ab_temp = p1ab*(np.math.log(1/p1ab,2)) + (1-p1ab)*(np.math.log(1/(1-p1ab),2))\n",
        "        ab.append(ab_temp)\n",
        "      x_atemp.append(x_a)\n",
        "      x_btemp.append(x_b)\n",
        "  \"\"\" for k in range(1,n2):\n",
        "        if (RSSI_3[k] > (minRSSI_3 + tn[i]*RSSI_c)):\n",
        "          x_ae.append(1)\n",
        "        else:\n",
        "          x_be.append(0)\n",
        "        if (RSSI_4[k] > (minRSSI_4 + tn[i]*RSSI_d)):\n",
        "          x_be.append(1)\n",
        "        else:\n",
        "          x_be.append(0)\n",
        "        print(x_ae)\n",
        "        #p1be = (sum(x_atemp[i])+sum(x_ae)/(n+n2))\n",
        "\"\"\""
      ]
    }
  ],
  "metadata": {
    "colab": {
      "collapsed_sections": [],
      "name": "code 1.ipynb",
      "provenance": []
    },
    "kernelspec": {
      "display_name": "Python 3",
      "name": "python3"
    },
    "language_info": {
      "name": "python"
    }
  },
  "nbformat": 4,
  "nbformat_minor": 0
}